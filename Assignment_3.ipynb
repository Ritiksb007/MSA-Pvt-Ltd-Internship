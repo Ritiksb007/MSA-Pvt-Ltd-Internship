{
  "nbformat": 4,
  "nbformat_minor": 0,
  "metadata": {
    "colab": {
      "provenance": []
    },
    "kernelspec": {
      "name": "python3",
      "display_name": "Python 3"
    },
    "language_info": {
      "name": "python"
    }
  },
  "cells": [
    {
      "cell_type": "code",
      "source": [
        "import pandas as pd\n",
        "from sklearn.model_selection import train_test_split, GridSearchCV\n",
        "from sklearn.ensemble import RandomForestRegressor\n",
        "from sklearn.metrics import mean_absolute_error, mean_squared_error, r2_score\n",
        "from sklearn.preprocessing import StandardScaler\n",
        "import pickle\n",
        "from datetime import datetime"
      ],
      "metadata": {
        "id": "uAHq1_2RnsTG"
      },
      "execution_count": 1,
      "outputs": []
    },
    {
      "cell_type": "code",
      "source": [
        "# Load the dataset from an Excel file\n",
        "data = pd.read_excel('/content/vehicles.xlsx')\n",
        "\n",
        "# Display the first few rows of the dataset\n",
        "print(\"Original Dataset:\")\n",
        "print(data.head(10))"
      ],
      "metadata": {
        "colab": {
          "base_uri": "https://localhost:8080/"
        },
        "id": "TMtXQLrxOcN9",
        "outputId": "57755b2b-86e8-425e-ffd9-f894e7a39dd1"
      },
      "execution_count": 2,
      "outputs": [
        {
          "output_type": "stream",
          "name": "stdout",
          "text": [
            "Original Dataset:\n",
            "           id                                                url  \\\n",
            "0  7222695916  https://prescott.craigslist.org/cto/d/prescott...   \n",
            "1  7218891961  https://fayar.craigslist.org/ctd/d/bentonville...   \n",
            "2  7221797935  https://keys.craigslist.org/cto/d/summerland-k...   \n",
            "3  7222270760  https://worcester.craigslist.org/cto/d/west-br...   \n",
            "4  7210384030  https://greensboro.craigslist.org/cto/d/trinit...   \n",
            "5  7222379453  https://hudsonvalley.craigslist.org/cto/d/west...   \n",
            "6  7221952215  https://hudsonvalley.craigslist.org/cto/d/west...   \n",
            "7  7220195662  https://hudsonvalley.craigslist.org/cto/d/poug...   \n",
            "8  7209064557  https://medford.craigslist.org/cto/d/grants-pa...   \n",
            "9  7219485069  https://erie.craigslist.org/cto/d/erie-2012-su...   \n",
            "\n",
            "                   region                           region_url  price  year  \\\n",
            "0                prescott      https://prescott.craigslist.org   6000   NaN   \n",
            "1            fayetteville         https://fayar.craigslist.org  11900   NaN   \n",
            "2            florida keys          https://keys.craigslist.org  21000   NaN   \n",
            "3  worcester / central MA     https://worcester.craigslist.org   1500   NaN   \n",
            "4              greensboro    https://greensboro.craigslist.org   4900   NaN   \n",
            "5           hudson valley  https://hudsonvalley.craigslist.org   1600   NaN   \n",
            "6           hudson valley  https://hudsonvalley.craigslist.org   1000   NaN   \n",
            "7           hudson valley  https://hudsonvalley.craigslist.org  15995   NaN   \n",
            "8         medford-ashland       https://medford.craigslist.org   5000   NaN   \n",
            "9                    erie          https://erie.craigslist.org   3000   NaN   \n",
            "\n",
            "  manufacturer model condition cylinders  ... size  type paint_color  \\\n",
            "0          NaN   NaN       NaN       NaN  ...  NaN   NaN         NaN   \n",
            "1          NaN   NaN       NaN       NaN  ...  NaN   NaN         NaN   \n",
            "2          NaN   NaN       NaN       NaN  ...  NaN   NaN         NaN   \n",
            "3          NaN   NaN       NaN       NaN  ...  NaN   NaN         NaN   \n",
            "4          NaN   NaN       NaN       NaN  ...  NaN   NaN         NaN   \n",
            "5          NaN   NaN       NaN       NaN  ...  NaN   NaN         NaN   \n",
            "6          NaN   NaN       NaN       NaN  ...  NaN   NaN         NaN   \n",
            "7          NaN   NaN       NaN       NaN  ...  NaN   NaN         NaN   \n",
            "8          NaN   NaN       NaN       NaN  ...  NaN   NaN         NaN   \n",
            "9          NaN   NaN       NaN       NaN  ...  NaN   NaN         NaN   \n",
            "\n",
            "  image_url description county state lat long posting_date  \n",
            "0       NaN         NaN    NaN    az NaN  NaN          NaN  \n",
            "1       NaN         NaN    NaN    ar NaN  NaN          NaN  \n",
            "2       NaN         NaN    NaN    fl NaN  NaN          NaN  \n",
            "3       NaN         NaN    NaN    ma NaN  NaN          NaN  \n",
            "4       NaN         NaN    NaN    nc NaN  NaN          NaN  \n",
            "5       NaN         NaN    NaN    ny NaN  NaN          NaN  \n",
            "6       NaN         NaN    NaN    ny NaN  NaN          NaN  \n",
            "7       NaN         NaN    NaN    ny NaN  NaN          NaN  \n",
            "8       NaN         NaN    NaN    or NaN  NaN          NaN  \n",
            "9       NaN         NaN    NaN    pa NaN  NaN          NaN  \n",
            "\n",
            "[10 rows x 26 columns]\n"
          ]
        }
      ]
    },
    {
      "cell_type": "code",
      "source": [
        "# Handle missing values by filling NaN values with appropriate defaults\n",
        "data['region'] = data['region'].fillna(\"Unknown\")\n",
        "data['price'] = data['price'].fillna(0)\n",
        "data['year'] = data['year'].fillna(0)\n",
        "data['manufacturer'] = data['manufacturer'].fillna(\"Unknown\")\n",
        "data['model'] = data['model'].fillna(\"Unknown\")\n",
        "data['condition'] = data['condition'].fillna(\"Unknown\")\n",
        "data['cylinders'] = data['cylinders'].fillna(\"Unknown\")\n",
        "data['fuel'] = data['fuel'].fillna(\"Unknown\")\n",
        "data['odometer'] = data['odometer'].fillna(0)\n",
        "data['title_status'] = data['title_status'].fillna(\"Unknown\")\n",
        "data['transmission'] = data['transmission'].fillna(\"Unknown\")\n",
        "data['VIN'] = data['VIN'].fillna(\"Unknown\")\n",
        "data['drive'] = data['drive'].fillna(\"Unknown\")\n",
        "data['size'] = data['size'].fillna(\"Unknown\")\n",
        "data['type'] = data['type'].fillna(\"Unknown\")\n",
        "data['paint_color'] = data['paint_color'].fillna(\"Unknown\")\n",
        "data['lat'] = data['lat'].fillna(0.0)\n",
        "data['long'] = data['long'].fillna(0.0)\n",
        "\n",
        "# Drop unnecessary columns\n",
        "data = data.drop(columns=['county', 'state', 'image_url', 'description', 'posting_date'])\n",
        "\n",
        "# Encode categorical variables\n",
        "data = pd.get_dummies(data, columns=['region', 'manufacturer', 'model', 'condition', 'cylinders', 'fuel', 'title_status', 'transmission', 'drive', 'size', 'type', 'paint_color'])\n",
        "\n",
        "# Scale numerical features\n",
        "scaler = StandardScaler()\n",
        "data[['year', 'odometer', 'lat', 'long']] = scaler.fit_transform(data[['year', 'odometer', 'lat', 'long']])\n",
        "\n",
        "# Extract year from the current year\n",
        "current_year = datetime.now().year\n",
        "data['car_age'] = current_year - data['year']\n",
        "\n",
        "# Drop the 'year' column as it's now represented by 'car_age'\n",
        "data = data.drop(columns=['year'])\n",
        "\n",
        "# Ensure no NaN values\n",
        "data = data.fillna(0)\n",
        "\n",
        "# Display the updated dataset with 'car_age'\n",
        "print(\"\\nDataset with 'car_age':\")\n",
        "print(data.head())"
      ],
      "metadata": {
        "colab": {
          "base_uri": "https://localhost:8080/"
        },
        "id": "JqSAeXeGOgFf",
        "outputId": "f1ccf019-1ab5-41d6-a82c-6194ae72bd33"
      },
      "execution_count": 3,
      "outputs": [
        {
          "output_type": "stream",
          "name": "stdout",
          "text": [
            "\n",
            "Dataset with 'car_age':\n",
            "           id                                                url  \\\n",
            "0  7222695916  https://prescott.craigslist.org/cto/d/prescott...   \n",
            "1  7218891961  https://fayar.craigslist.org/ctd/d/bentonville...   \n",
            "2  7221797935  https://keys.craigslist.org/cto/d/summerland-k...   \n",
            "3  7222270760  https://worcester.craigslist.org/cto/d/west-br...   \n",
            "4  7210384030  https://greensboro.craigslist.org/cto/d/trinit...   \n",
            "\n",
            "                          region_url  price  odometer      VIN      lat  \\\n",
            "0    https://prescott.craigslist.org   6000  -0.19657  Unknown -6.42929   \n",
            "1       https://fayar.craigslist.org  11900  -0.19657  Unknown -6.42929   \n",
            "2        https://keys.craigslist.org  21000  -0.19657  Unknown -6.42929   \n",
            "3   https://worcester.craigslist.org   1500  -0.19657  Unknown -6.42929   \n",
            "4  https://greensboro.craigslist.org   4900  -0.19657  Unknown -6.42929   \n",
            "\n",
            "       long  region_auburn  region_bellingham  ...  paint_color_custom  \\\n",
            "0  6.783784          False              False  ...               False   \n",
            "1  6.783784          False              False  ...               False   \n",
            "2  6.783784          False              False  ...               False   \n",
            "3  6.783784          False              False  ...               False   \n",
            "4  6.783784          False              False  ...               False   \n",
            "\n",
            "   paint_color_green  paint_color_grey  paint_color_orange  \\\n",
            "0              False             False               False   \n",
            "1              False             False               False   \n",
            "2              False             False               False   \n",
            "3              False             False               False   \n",
            "4              False             False               False   \n",
            "\n",
            "   paint_color_purple  paint_color_red  paint_color_silver  paint_color_white  \\\n",
            "0               False            False               False              False   \n",
            "1               False            False               False              False   \n",
            "2               False            False               False              False   \n",
            "3               False            False               False              False   \n",
            "4               False            False               False              False   \n",
            "\n",
            "   paint_color_yellow      car_age  \n",
            "0               False  2030.789549  \n",
            "1               False  2030.789549  \n",
            "2               False  2030.789549  \n",
            "3               False  2030.789549  \n",
            "4               False  2030.789549  \n",
            "\n",
            "[5 rows x 1102 columns]\n"
          ]
        }
      ]
    },
    {
      "cell_type": "code",
      "source": [
        "# Split the dataset into training and testing sets\n",
        "X = data.drop(columns=['price'])\n",
        "y = data['price']\n",
        "X_train, X_test, y_train, y_test = train_test_split(X, y, test_size=0.2, random_state=42)\n",
        "\n",
        "# Ensure training and testing sets have the same columns\n",
        "X_train = pd.get_dummies(X_train)\n",
        "X_test = pd.get_dummies(X_test)\n",
        "X_test = X_test.reindex(columns=X_train.columns, fill_value=0)\n",
        "\n",
        "# Hyperparameter tuning for RandomForestRegressor\n",
        "param_grid = {\n",
        "    'n_estimators': [50, 100],\n",
        "    'max_features': ['auto', 'sqrt'],\n",
        "    'max_depth': [10, None],\n",
        "    'min_samples_split': [2, 5],\n",
        "    'min_samples_leaf': [1, 2],\n",
        "}\n",
        "\n",
        "rf = RandomForestRegressor()\n",
        "grid_search = GridSearchCV(estimator=rf, param_grid=param_grid, cv=3, n_jobs=-1, verbose=2)\n",
        "grid_search.fit(X_train, y_train)\n",
        "\n",
        "# Get the best model\n",
        "best_model = grid_search.best_estimator_\n",
        "\n",
        "# Save the best model\n",
        "with open('best_model.pkl', 'wb') as f:\n",
        "    pickle.dump(best_model, f)\n",
        "\n",
        "# Evaluate and print model performance\n",
        "y_pred = best_model.predict(X_test)\n",
        "print(f\"\\nRandom Forest Performance after Tuning:\")\n",
        "print(f\"Mean Absolute Error (MAE): {mean_absolute_error(y_test, y_pred)}\")\n",
        "print(f\"Mean Squared Error (MSE): {mean_squared_error(y_test, y_pred)}\")\n",
        "print(f\"Root Mean Squared Error (RMSE): {mean_squared_error(y_test, y_pred, squared=False)}\")\n",
        "print(f\"R-squared Score: {r2_score(y_test, y_pred)}\")"
      ],
      "metadata": {
        "colab": {
          "base_uri": "https://localhost:8080/"
        },
        "id": "po_4rctPOlvj",
        "outputId": "dfa09231-780f-4838-d8f5-36a3e11403fb"
      },
      "execution_count": 4,
      "outputs": [
        {
          "output_type": "stream",
          "name": "stdout",
          "text": [
            "Fitting 3 folds for each of 32 candidates, totalling 96 fits\n"
          ]
        },
        {
          "output_type": "stream",
          "name": "stderr",
          "text": [
            "/usr/local/lib/python3.10/dist-packages/sklearn/ensemble/_forest.py:413: FutureWarning: `max_features='auto'` has been deprecated in 1.1 and will be removed in 1.3. To keep the past behaviour, explicitly set `max_features=1.0` or remove this parameter as it is also the default value for RandomForestRegressors and ExtraTreesRegressors.\n",
            "  warn(\n"
          ]
        },
        {
          "output_type": "stream",
          "name": "stdout",
          "text": [
            "\n",
            "Random Forest Performance after Tuning:\n",
            "Mean Absolute Error (MAE): 4394.193099166611\n",
            "Mean Squared Error (MSE): 68579923.71923536\n",
            "Root Mean Squared Error (RMSE): 8281.299639503171\n",
            "R-squared Score: 0.7090032208499333\n"
          ]
        }
      ]
    }
  ]
}